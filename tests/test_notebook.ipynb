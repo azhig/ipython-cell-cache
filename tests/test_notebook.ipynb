{
 "cells": [
  {
   "cell_type": "code",
   "execution_count": 10,
   "metadata": {},
   "outputs": [
    {
     "name": "stdout",
     "output_type": "stream",
     "text": [
      "action time is 5.01140 second\n",
      "action time is 0.00002 second\n",
      "action time is 0.00001 second\n",
      "action time is 0.00001 second\n",
      "action time is 0.00001 second\n",
      "action time is 0.00001 second\n",
      "action time is 0.00001 second\n",
      "action time is 0.00001 second\n",
      "action time is 0.00001 second\n",
      "action time is 0.00001 second\n"
     ]
    }
   ],
   "source": [
    "import timeit\n",
    "from time import sleep\n",
    "\n",
    "import ipython_cell_cache\n",
    "\n",
    "ipython_cell_cache.In = In\n",
    "\n",
    "\n",
    "@ipython_cell_cache.cache_function_for_cell(maxsize=10)\n",
    "def my_test(a: int):\n",
    "    sleep(5)\n",
    "    return a\n",
    "\n",
    "def time_measure(cmd:str):\n",
    "    for _ in range(10):\n",
    "        action_time = timeit.timeit(cmd, number=1, globals=globals())\n",
    "        print(f\"action time is {action_time:.5f} second\")\n",
    "\n",
    "time_measure(\"my_test(1)\")\n"
   ]
  },
  {
   "cell_type": "code",
   "execution_count": 11,
   "metadata": {},
   "outputs": [
    {
     "name": "stdout",
     "output_type": "stream",
     "text": [
      "action time is 5.00312 second\n",
      "action time is 0.00001 second\n",
      "action time is 0.00001 second\n",
      "action time is 0.00001 second\n",
      "action time is 0.00001 second\n",
      "action time is 0.00003 second\n",
      "action time is 0.00002 second\n",
      "action time is 0.00001 second\n",
      "action time is 0.00001 second\n",
      "action time is 0.00002 second\n"
     ]
    }
   ],
   "source": [
    "time_measure(\"my_test(1)\")"
   ]
  },
  {
   "cell_type": "code",
   "execution_count": 12,
   "metadata": {},
   "outputs": [],
   "source": [
    "class myclass:\n",
    "    @ipython_cell_cache.cache_method_for_cell()\n",
    "    def main(self, a):\n",
    "        sleep(5)\n",
    "        return a"
   ]
  },
  {
   "cell_type": "code",
   "execution_count": 13,
   "metadata": {},
   "outputs": [
    {
     "name": "stdout",
     "output_type": "stream",
     "text": [
      "action time is 4.99901 second\n",
      "action time is 0.00002 second\n",
      "action time is 0.00004 second\n",
      "action time is 0.00001 second\n",
      "action time is 0.00001 second\n",
      "action time is 0.00001 second\n",
      "action time is 0.00001 second\n",
      "action time is 0.00001 second\n",
      "action time is 0.00001 second\n",
      "action time is 0.00001 second\n"
     ]
    }
   ],
   "source": [
    "instance = myclass()\n",
    "time_measure(\"instance.main(1)\")\n",
    "    "
   ]
  },
  {
   "cell_type": "code",
   "execution_count": 15,
   "metadata": {},
   "outputs": [
    {
     "name": "stdout",
     "output_type": "stream",
     "text": [
      "action time is 5.00308 second\n",
      "action time is 0.00006 second\n",
      "action time is 0.00001 second\n",
      "action time is 0.00001 second\n",
      "action time is 0.00001 second\n",
      "action time is 0.00001 second\n",
      "action time is 0.00001 second\n",
      "action time is 0.00001 second\n",
      "action time is 0.00001 second\n",
      "action time is 0.00001 second\n"
     ]
    }
   ],
   "source": [
    "time_measure(\"instance.main(1)\")"
   ]
  }
 ],
 "metadata": {
  "kernelspec": {
   "display_name": "Python 3.10.4 64-bit",
   "language": "python",
   "name": "python3"
  },
  "language_info": {
   "codemirror_mode": {
    "name": "ipython",
    "version": 3
   },
   "file_extension": ".py",
   "mimetype": "text/x-python",
   "name": "python",
   "nbconvert_exporter": "python",
   "pygments_lexer": "ipython3",
   "version": "3.10.4"
  },
  "orig_nbformat": 4,
  "vscode": {
   "interpreter": {
    "hash": "47a657bcb385193ffdf25f56dd58ae9a152d79e64ac615d1d2e6367361a50e5e"
   }
  }
 },
 "nbformat": 4,
 "nbformat_minor": 2
}
